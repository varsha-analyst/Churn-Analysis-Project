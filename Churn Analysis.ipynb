{
 "cells": [
  {
   "cell_type": "markdown",
   "id": "c31c4090-9447-460e-b3d5-30691e40f1db",
   "metadata": {},
   "source": [
    "***Customer Churn Analysis***\n",
    "\n",
    "Customer churn, also known as customer attrition.\n",
    "\n",
    "Rate at which customers stop doing business with a company over a specific period\n",
    "In a dataset related to customer churn, \"churn yes\" and \"churn no\" (or similar labels) \n",
    "\n",
    "indicate whether a customer has stopped using a service or product (yes) or continues to be a customer (no) within a specific timeframe. "
   ]
  },
  {
   "cell_type": "markdown",
   "id": "29dcdbde-01a6-4ec0-ad22-ffa2b4657757",
   "metadata": {},
   "source": [
    "**Table of Content**\n",
    "\n",
    "datatype\n",
    "Null Values\n",
    "Duplicate Data\n",
    "Eda\n",
    "Predictive Modelling \n"
   ]
  },
  {
   "cell_type": "code",
   "execution_count": 196,
   "id": "398404f4-b301-41b6-b14b-a86eb89871a6",
   "metadata": {},
   "outputs": [],
   "source": [
    "import pandas as pd\n",
    "import numpy as np\n",
    "import matplotlib.pyplot as plt\n",
    "import seaborn as sns"
   ]
  },
  {
   "cell_type": "code",
   "execution_count": 197,
   "id": "f1e5fd86-5056-476e-b7ae-28ca99f0f9fb",
   "metadata": {},
   "outputs": [],
   "source": [
    "df=pd.read_csv(\"Customer Churn.csv\")"
   ]
  },
  {
   "cell_type": "code",
   "execution_count": 198,
   "id": "a5c0d08b-aa7f-4cff-8237-9c148356118d",
   "metadata": {},
   "outputs": [
    {
     "data": {
      "text/html": [
       "<div>\n",
       "<style scoped>\n",
       "    .dataframe tbody tr th:only-of-type {\n",
       "        vertical-align: middle;\n",
       "    }\n",
       "\n",
       "    .dataframe tbody tr th {\n",
       "        vertical-align: top;\n",
       "    }\n",
       "\n",
       "    .dataframe thead th {\n",
       "        text-align: right;\n",
       "    }\n",
       "</style>\n",
       "<table border=\"1\" class=\"dataframe\">\n",
       "  <thead>\n",
       "    <tr style=\"text-align: right;\">\n",
       "      <th></th>\n",
       "      <th>customerID</th>\n",
       "      <th>gender</th>\n",
       "      <th>SeniorCitizen</th>\n",
       "      <th>Partner</th>\n",
       "      <th>Dependents</th>\n",
       "      <th>tenure</th>\n",
       "      <th>PhoneService</th>\n",
       "      <th>MultipleLines</th>\n",
       "      <th>InternetService</th>\n",
       "      <th>OnlineSecurity</th>\n",
       "      <th>...</th>\n",
       "      <th>DeviceProtection</th>\n",
       "      <th>TechSupport</th>\n",
       "      <th>StreamingTV</th>\n",
       "      <th>StreamingMovies</th>\n",
       "      <th>Contract</th>\n",
       "      <th>PaperlessBilling</th>\n",
       "      <th>PaymentMethod</th>\n",
       "      <th>MonthlyCharges</th>\n",
       "      <th>TotalCharges</th>\n",
       "      <th>Churn</th>\n",
       "    </tr>\n",
       "  </thead>\n",
       "  <tbody>\n",
       "    <tr>\n",
       "      <th>0</th>\n",
       "      <td>7590-VHVEG</td>\n",
       "      <td>Female</td>\n",
       "      <td>0</td>\n",
       "      <td>Yes</td>\n",
       "      <td>No</td>\n",
       "      <td>1</td>\n",
       "      <td>No</td>\n",
       "      <td>No phone service</td>\n",
       "      <td>DSL</td>\n",
       "      <td>No</td>\n",
       "      <td>...</td>\n",
       "      <td>No</td>\n",
       "      <td>No</td>\n",
       "      <td>No</td>\n",
       "      <td>No</td>\n",
       "      <td>Month-to-month</td>\n",
       "      <td>Yes</td>\n",
       "      <td>Electronic check</td>\n",
       "      <td>29.85</td>\n",
       "      <td>29.85</td>\n",
       "      <td>No</td>\n",
       "    </tr>\n",
       "    <tr>\n",
       "      <th>1</th>\n",
       "      <td>5575-GNVDE</td>\n",
       "      <td>Male</td>\n",
       "      <td>0</td>\n",
       "      <td>No</td>\n",
       "      <td>No</td>\n",
       "      <td>34</td>\n",
       "      <td>Yes</td>\n",
       "      <td>No</td>\n",
       "      <td>DSL</td>\n",
       "      <td>Yes</td>\n",
       "      <td>...</td>\n",
       "      <td>Yes</td>\n",
       "      <td>No</td>\n",
       "      <td>No</td>\n",
       "      <td>No</td>\n",
       "      <td>One year</td>\n",
       "      <td>No</td>\n",
       "      <td>Mailed check</td>\n",
       "      <td>56.95</td>\n",
       "      <td>1889.5</td>\n",
       "      <td>No</td>\n",
       "    </tr>\n",
       "    <tr>\n",
       "      <th>2</th>\n",
       "      <td>3668-QPYBK</td>\n",
       "      <td>Male</td>\n",
       "      <td>0</td>\n",
       "      <td>No</td>\n",
       "      <td>No</td>\n",
       "      <td>2</td>\n",
       "      <td>Yes</td>\n",
       "      <td>No</td>\n",
       "      <td>DSL</td>\n",
       "      <td>Yes</td>\n",
       "      <td>...</td>\n",
       "      <td>No</td>\n",
       "      <td>No</td>\n",
       "      <td>No</td>\n",
       "      <td>No</td>\n",
       "      <td>Month-to-month</td>\n",
       "      <td>Yes</td>\n",
       "      <td>Mailed check</td>\n",
       "      <td>53.85</td>\n",
       "      <td>108.15</td>\n",
       "      <td>Yes</td>\n",
       "    </tr>\n",
       "    <tr>\n",
       "      <th>3</th>\n",
       "      <td>7795-CFOCW</td>\n",
       "      <td>Male</td>\n",
       "      <td>0</td>\n",
       "      <td>No</td>\n",
       "      <td>No</td>\n",
       "      <td>45</td>\n",
       "      <td>No</td>\n",
       "      <td>No phone service</td>\n",
       "      <td>DSL</td>\n",
       "      <td>Yes</td>\n",
       "      <td>...</td>\n",
       "      <td>Yes</td>\n",
       "      <td>Yes</td>\n",
       "      <td>No</td>\n",
       "      <td>No</td>\n",
       "      <td>One year</td>\n",
       "      <td>No</td>\n",
       "      <td>Bank transfer (automatic)</td>\n",
       "      <td>42.30</td>\n",
       "      <td>1840.75</td>\n",
       "      <td>No</td>\n",
       "    </tr>\n",
       "    <tr>\n",
       "      <th>4</th>\n",
       "      <td>9237-HQITU</td>\n",
       "      <td>Female</td>\n",
       "      <td>0</td>\n",
       "      <td>No</td>\n",
       "      <td>No</td>\n",
       "      <td>2</td>\n",
       "      <td>Yes</td>\n",
       "      <td>No</td>\n",
       "      <td>Fiber optic</td>\n",
       "      <td>No</td>\n",
       "      <td>...</td>\n",
       "      <td>No</td>\n",
       "      <td>No</td>\n",
       "      <td>No</td>\n",
       "      <td>No</td>\n",
       "      <td>Month-to-month</td>\n",
       "      <td>Yes</td>\n",
       "      <td>Electronic check</td>\n",
       "      <td>70.70</td>\n",
       "      <td>151.65</td>\n",
       "      <td>Yes</td>\n",
       "    </tr>\n",
       "  </tbody>\n",
       "</table>\n",
       "<p>5 rows × 21 columns</p>\n",
       "</div>"
      ],
      "text/plain": [
       "   customerID  gender  SeniorCitizen Partner Dependents  tenure PhoneService  \\\n",
       "0  7590-VHVEG  Female              0     Yes         No       1           No   \n",
       "1  5575-GNVDE    Male              0      No         No      34          Yes   \n",
       "2  3668-QPYBK    Male              0      No         No       2          Yes   \n",
       "3  7795-CFOCW    Male              0      No         No      45           No   \n",
       "4  9237-HQITU  Female              0      No         No       2          Yes   \n",
       "\n",
       "      MultipleLines InternetService OnlineSecurity  ... DeviceProtection  \\\n",
       "0  No phone service             DSL             No  ...               No   \n",
       "1                No             DSL            Yes  ...              Yes   \n",
       "2                No             DSL            Yes  ...               No   \n",
       "3  No phone service             DSL            Yes  ...              Yes   \n",
       "4                No     Fiber optic             No  ...               No   \n",
       "\n",
       "  TechSupport StreamingTV StreamingMovies        Contract PaperlessBilling  \\\n",
       "0          No          No              No  Month-to-month              Yes   \n",
       "1          No          No              No        One year               No   \n",
       "2          No          No              No  Month-to-month              Yes   \n",
       "3         Yes          No              No        One year               No   \n",
       "4          No          No              No  Month-to-month              Yes   \n",
       "\n",
       "               PaymentMethod MonthlyCharges  TotalCharges Churn  \n",
       "0           Electronic check          29.85         29.85    No  \n",
       "1               Mailed check          56.95        1889.5    No  \n",
       "2               Mailed check          53.85        108.15   Yes  \n",
       "3  Bank transfer (automatic)          42.30       1840.75    No  \n",
       "4           Electronic check          70.70        151.65   Yes  \n",
       "\n",
       "[5 rows x 21 columns]"
      ]
     },
     "execution_count": 198,
     "metadata": {},
     "output_type": "execute_result"
    }
   ],
   "source": [
    "df.head()"
   ]
  },
  {
   "cell_type": "code",
   "execution_count": 199,
   "id": "bbb0f422-0b2c-4bdb-add0-00c2dd6d260d",
   "metadata": {},
   "outputs": [
    {
     "data": {
      "text/plain": [
       "Index(['customerID', 'gender', 'SeniorCitizen', 'Partner', 'Dependents',\n",
       "       'tenure', 'PhoneService', 'MultipleLines', 'InternetService',\n",
       "       'OnlineSecurity', 'OnlineBackup', 'DeviceProtection', 'TechSupport',\n",
       "       'StreamingTV', 'StreamingMovies', 'Contract', 'PaperlessBilling',\n",
       "       'PaymentMethod', 'MonthlyCharges', 'TotalCharges', 'Churn'],\n",
       "      dtype='object')"
      ]
     },
     "execution_count": 199,
     "metadata": {},
     "output_type": "execute_result"
    }
   ],
   "source": [
    "df.columns"
   ]
  },
  {
   "cell_type": "code",
   "execution_count": 200,
   "id": "fcbab5f2-4720-43ad-b752-620e0ff862ed",
   "metadata": {},
   "outputs": [
    {
     "name": "stdout",
     "output_type": "stream",
     "text": [
      "<class 'pandas.core.frame.DataFrame'>\n",
      "RangeIndex: 7043 entries, 0 to 7042\n",
      "Data columns (total 21 columns):\n",
      " #   Column            Non-Null Count  Dtype  \n",
      "---  ------            --------------  -----  \n",
      " 0   customerID        7043 non-null   object \n",
      " 1   gender            7043 non-null   object \n",
      " 2   SeniorCitizen     7043 non-null   int64  \n",
      " 3   Partner           7043 non-null   object \n",
      " 4   Dependents        7043 non-null   object \n",
      " 5   tenure            7043 non-null   int64  \n",
      " 6   PhoneService      7043 non-null   object \n",
      " 7   MultipleLines     7043 non-null   object \n",
      " 8   InternetService   7043 non-null   object \n",
      " 9   OnlineSecurity    7043 non-null   object \n",
      " 10  OnlineBackup      7043 non-null   object \n",
      " 11  DeviceProtection  7043 non-null   object \n",
      " 12  TechSupport       7043 non-null   object \n",
      " 13  StreamingTV       7043 non-null   object \n",
      " 14  StreamingMovies   7043 non-null   object \n",
      " 15  Contract          7043 non-null   object \n",
      " 16  PaperlessBilling  7043 non-null   object \n",
      " 17  PaymentMethod     7043 non-null   object \n",
      " 18  MonthlyCharges    7043 non-null   float64\n",
      " 19  TotalCharges      7043 non-null   object \n",
      " 20  Churn             7043 non-null   object \n",
      "dtypes: float64(1), int64(2), object(18)\n",
      "memory usage: 1.1+ MB\n"
     ]
    }
   ],
   "source": [
    "df.info()\n"
   ]
  },
  {
   "cell_type": "code",
   "execution_count": 201,
   "id": "b3c282fb-d286-4349-a733-aceff8079640",
   "metadata": {},
   "outputs": [],
   "source": [
    "\n",
    "df[\"TotalCharges\"] = df[\"TotalCharges\"].replace(\" \",\"0\")"
   ]
  },
  {
   "cell_type": "code",
   "execution_count": 202,
   "id": "9887cdd8-831c-49cf-9d4a-9d5f6786ec35",
   "metadata": {},
   "outputs": [],
   "source": [
    "df[\"TotalCharges\"] = df[\"TotalCharges\"].astype(\"float\")"
   ]
  },
  {
   "cell_type": "code",
   "execution_count": 203,
   "id": "b94b6ce3-5fdc-4665-9f43-ee601a61b337",
   "metadata": {},
   "outputs": [
    {
     "name": "stdout",
     "output_type": "stream",
     "text": [
      "<class 'pandas.core.frame.DataFrame'>\n",
      "RangeIndex: 7043 entries, 0 to 7042\n",
      "Data columns (total 21 columns):\n",
      " #   Column            Non-Null Count  Dtype  \n",
      "---  ------            --------------  -----  \n",
      " 0   customerID        7043 non-null   object \n",
      " 1   gender            7043 non-null   object \n",
      " 2   SeniorCitizen     7043 non-null   int64  \n",
      " 3   Partner           7043 non-null   object \n",
      " 4   Dependents        7043 non-null   object \n",
      " 5   tenure            7043 non-null   int64  \n",
      " 6   PhoneService      7043 non-null   object \n",
      " 7   MultipleLines     7043 non-null   object \n",
      " 8   InternetService   7043 non-null   object \n",
      " 9   OnlineSecurity    7043 non-null   object \n",
      " 10  OnlineBackup      7043 non-null   object \n",
      " 11  DeviceProtection  7043 non-null   object \n",
      " 12  TechSupport       7043 non-null   object \n",
      " 13  StreamingTV       7043 non-null   object \n",
      " 14  StreamingMovies   7043 non-null   object \n",
      " 15  Contract          7043 non-null   object \n",
      " 16  PaperlessBilling  7043 non-null   object \n",
      " 17  PaymentMethod     7043 non-null   object \n",
      " 18  MonthlyCharges    7043 non-null   float64\n",
      " 19  TotalCharges      7043 non-null   float64\n",
      " 20  Churn             7043 non-null   object \n",
      "dtypes: float64(2), int64(2), object(17)\n",
      "memory usage: 1.1+ MB\n"
     ]
    }
   ],
   "source": [
    "df.info()"
   ]
  },
  {
   "cell_type": "code",
   "execution_count": 204,
   "id": "5b52aad3-7824-4fda-8e4f-9db621592049",
   "metadata": {},
   "outputs": [
    {
     "data": {
      "text/plain": [
       "customerID          0\n",
       "gender              0\n",
       "SeniorCitizen       0\n",
       "Partner             0\n",
       "Dependents          0\n",
       "tenure              0\n",
       "PhoneService        0\n",
       "MultipleLines       0\n",
       "InternetService     0\n",
       "OnlineSecurity      0\n",
       "OnlineBackup        0\n",
       "DeviceProtection    0\n",
       "TechSupport         0\n",
       "StreamingTV         0\n",
       "StreamingMovies     0\n",
       "Contract            0\n",
       "PaperlessBilling    0\n",
       "PaymentMethod       0\n",
       "MonthlyCharges      0\n",
       "TotalCharges        0\n",
       "Churn               0\n",
       "dtype: int64"
      ]
     },
     "execution_count": 204,
     "metadata": {},
     "output_type": "execute_result"
    }
   ],
   "source": [
    "df.isnull().sum()"
   ]
  },
  {
   "cell_type": "code",
   "execution_count": 205,
   "id": "9e1dc77c-ff7d-4518-9baf-d262c1bd5f61",
   "metadata": {},
   "outputs": [
    {
     "data": {
      "text/plain": [
       "0"
      ]
     },
     "execution_count": 205,
     "metadata": {},
     "output_type": "execute_result"
    }
   ],
   "source": [
    "df.duplicated().sum()\n"
   ]
  },
  {
   "cell_type": "code",
   "execution_count": 206,
   "id": "00d3a05c-6fd5-4229-8663-b320c385f083",
   "metadata": {},
   "outputs": [
    {
     "data": {
      "text/html": [
       "<div>\n",
       "<style scoped>\n",
       "    .dataframe tbody tr th:only-of-type {\n",
       "        vertical-align: middle;\n",
       "    }\n",
       "\n",
       "    .dataframe tbody tr th {\n",
       "        vertical-align: top;\n",
       "    }\n",
       "\n",
       "    .dataframe thead th {\n",
       "        text-align: right;\n",
       "    }\n",
       "</style>\n",
       "<table border=\"1\" class=\"dataframe\">\n",
       "  <thead>\n",
       "    <tr style=\"text-align: right;\">\n",
       "      <th></th>\n",
       "      <th>SeniorCitizen</th>\n",
       "      <th>tenure</th>\n",
       "      <th>MonthlyCharges</th>\n",
       "      <th>TotalCharges</th>\n",
       "    </tr>\n",
       "  </thead>\n",
       "  <tbody>\n",
       "    <tr>\n",
       "      <th>count</th>\n",
       "      <td>7043.000000</td>\n",
       "      <td>7043.000000</td>\n",
       "      <td>7043.000000</td>\n",
       "      <td>7043.000000</td>\n",
       "    </tr>\n",
       "    <tr>\n",
       "      <th>mean</th>\n",
       "      <td>0.162147</td>\n",
       "      <td>32.371149</td>\n",
       "      <td>64.761692</td>\n",
       "      <td>2279.734304</td>\n",
       "    </tr>\n",
       "    <tr>\n",
       "      <th>std</th>\n",
       "      <td>0.368612</td>\n",
       "      <td>24.559481</td>\n",
       "      <td>30.090047</td>\n",
       "      <td>2266.794470</td>\n",
       "    </tr>\n",
       "    <tr>\n",
       "      <th>min</th>\n",
       "      <td>0.000000</td>\n",
       "      <td>0.000000</td>\n",
       "      <td>18.250000</td>\n",
       "      <td>0.000000</td>\n",
       "    </tr>\n",
       "    <tr>\n",
       "      <th>25%</th>\n",
       "      <td>0.000000</td>\n",
       "      <td>9.000000</td>\n",
       "      <td>35.500000</td>\n",
       "      <td>398.550000</td>\n",
       "    </tr>\n",
       "    <tr>\n",
       "      <th>50%</th>\n",
       "      <td>0.000000</td>\n",
       "      <td>29.000000</td>\n",
       "      <td>70.350000</td>\n",
       "      <td>1394.550000</td>\n",
       "    </tr>\n",
       "    <tr>\n",
       "      <th>75%</th>\n",
       "      <td>0.000000</td>\n",
       "      <td>55.000000</td>\n",
       "      <td>89.850000</td>\n",
       "      <td>3786.600000</td>\n",
       "    </tr>\n",
       "    <tr>\n",
       "      <th>max</th>\n",
       "      <td>1.000000</td>\n",
       "      <td>72.000000</td>\n",
       "      <td>118.750000</td>\n",
       "      <td>8684.800000</td>\n",
       "    </tr>\n",
       "  </tbody>\n",
       "</table>\n",
       "</div>"
      ],
      "text/plain": [
       "       SeniorCitizen       tenure  MonthlyCharges  TotalCharges\n",
       "count    7043.000000  7043.000000     7043.000000   7043.000000\n",
       "mean        0.162147    32.371149       64.761692   2279.734304\n",
       "std         0.368612    24.559481       30.090047   2266.794470\n",
       "min         0.000000     0.000000       18.250000      0.000000\n",
       "25%         0.000000     9.000000       35.500000    398.550000\n",
       "50%         0.000000    29.000000       70.350000   1394.550000\n",
       "75%         0.000000    55.000000       89.850000   3786.600000\n",
       "max         1.000000    72.000000      118.750000   8684.800000"
      ]
     },
     "execution_count": 206,
     "metadata": {},
     "output_type": "execute_result"
    }
   ],
   "source": [
    "df.describe()"
   ]
  },
  {
   "cell_type": "markdown",
   "id": "1a33ba33-0cd5-459e-809e-02a201b1d6d8",
   "metadata": {},
   "source": [
    "**1. What is the overall customer churn rate?**"
   ]
  },
  {
   "cell_type": "code",
   "execution_count": 208,
   "id": "27db61d7-bf72-499a-bd20-f38c9ae4c9fa",
   "metadata": {},
   "outputs": [],
   "source": [
    "df_churn= df.Churn.value_counts(normalize=True).mul(100).reset_index()"
   ]
  },
  {
   "cell_type": "code",
   "execution_count": 209,
   "id": "51550fa2-9e3c-4f11-af71-fe5ba5af4122",
   "metadata": {},
   "outputs": [],
   "source": [
    "df_churn.columns=['Churn','Percentage']"
   ]
  },
  {
   "cell_type": "code",
   "execution_count": 210,
   "id": "82931a2b-4c28-452f-9229-5c90ba34a47d",
   "metadata": {},
   "outputs": [],
   "source": [
    "df_churn['Percentage'] = df_churn['Percentage'].round(2).astype(str) + '%'"
   ]
  },
  {
   "cell_type": "code",
   "execution_count": 211,
   "id": "ac330830-21cc-4f5e-b232-024c13956683",
   "metadata": {},
   "outputs": [
    {
     "data": {
      "text/html": [
       "<div>\n",
       "<style scoped>\n",
       "    .dataframe tbody tr th:only-of-type {\n",
       "        vertical-align: middle;\n",
       "    }\n",
       "\n",
       "    .dataframe tbody tr th {\n",
       "        vertical-align: top;\n",
       "    }\n",
       "\n",
       "    .dataframe thead th {\n",
       "        text-align: right;\n",
       "    }\n",
       "</style>\n",
       "<table border=\"1\" class=\"dataframe\">\n",
       "  <thead>\n",
       "    <tr style=\"text-align: right;\">\n",
       "      <th></th>\n",
       "      <th>Churn</th>\n",
       "      <th>Percentage</th>\n",
       "    </tr>\n",
       "  </thead>\n",
       "  <tbody>\n",
       "    <tr>\n",
       "      <th>0</th>\n",
       "      <td>No</td>\n",
       "      <td>73.46%</td>\n",
       "    </tr>\n",
       "    <tr>\n",
       "      <th>1</th>\n",
       "      <td>Yes</td>\n",
       "      <td>26.54%</td>\n",
       "    </tr>\n",
       "  </tbody>\n",
       "</table>\n",
       "</div>"
      ],
      "text/plain": [
       "  Churn Percentage\n",
       "0    No     73.46%\n",
       "1   Yes     26.54%"
      ]
     },
     "execution_count": 211,
     "metadata": {},
     "output_type": "execute_result"
    }
   ],
   "source": [
    "df_churn"
   ]
  },
  {
   "cell_type": "code",
   "execution_count": 359,
   "id": "eac9546a-f6ff-4b2b-9f2d-0d606fd5a462",
   "metadata": {},
   "outputs": [
    {
     "data": {
      "image/png": "[encoded data removed]",
      "text/plain": [
       "<Figure size 500x500 with 1 Axes>"
      ]
     },
     "metadata": {},
     "output_type": "display_data"
    }
   ],
   "source": [
    "plt.figure(figsize = (5,5))\n",
    "plt.pie(df_churn['Percentage'].str.rstrip('%').astype(float),   # Convert back to float\n",
    "        labels=df_churn['Churn'], \n",
    "        autopct='%1.1f%%', \n",
    "        colors=['lightblue', 'salmon'], \n",
    "        startangle=90, \n",
    "        wedgeprops={'edgecolor': 'black'})\n",
    "\n",
    "plt.title('Churn Distribution')\n",
    "plt.legend(title='Churn Status', bbox_to_anchor=(1.05, 1), loc='upper left')\n",
    "\n",
    "plt.show()"
   ]
  },
  {
   "cell_type": "markdown",
   "id": "d83b5f28-8eff-408a-b8df-5f838e234110",
   "metadata": {},
   "source": [
    "Overall Churn Rate is one-fourth approx"
   ]
  },
  {
   "cell_type": "markdown",
   "id": "0d42a76d-e181-48ed-956c-5f83013ac342",
   "metadata": {},
   "source": [
    "**2. Do long-term customers churn less? (Churn Rate Over Time/  Tenure & Customer Loyalty)**"
   ]
  },
  {
   "cell_type": "code",
   "execution_count": 538,
   "id": "b521cd27-5ae8-4d81-81ae-d6d165c2512d",
   "metadata": {},
   "outputs": [
    {
     "data": {
      "text/plain": [
       "<matplotlib.legend.Legend at 0x16639b55b50>"
      ]
     },
     "execution_count": 538,
     "metadata": {},
     "output_type": "execute_result"
    },
    {
     "data": {
      "image/png": "[encoded data removed]",
      "text/plain": [
       "<Figure size 640x480 with 1 Axes>"
      ]
     },
     "metadata": {},
     "output_type": "display_data"
    }
   ],
   "source": [
    "sns.histplot(df[df['Churn'] == 'Yes']['tenure'], kde=True, color='darkblue', label='Churned')\n",
    "sns.histplot(df[df['Churn'] == 'No']['tenure'], kde=True, color='pink', label='Stayed')\n",
    "plt.legend()"
   ]
  },
  {
   "cell_type": "markdown",
   "id": "bc603cf9-527e-4d89-b346-6e7e750f5eae",
   "metadata": {},
   "source": [
    "Majority of churned customers have very low tenure (0-10 months)\n",
    "\n",
    "The highest churn count is concentrated at low tenure values (0-10 months).\n",
    "\n",
    "This suggests that new customers are more likely to leave within the first few months.\n",
    "\n",
    "Churn decreases as tenure increases\n",
    "\n",
    "As tenure increases, the number of churned customers drops significantly.\n",
    "\n",
    "This indicates that long-term customers are more likely to stay and have lower churn rates.\n",
    "\n",
    "Long-tenure churn is rare but present\n",
    "\n",
    "Some customers still churn after staying for several years, though this is much less frequent."
   ]
  },
  {
   "cell_type": "markdown",
   "id": "2f6384e4-2d31-4817-98d4-37e5e5294635",
   "metadata": {},
   "source": [
    "**3. Seasonal Patterns in Churn**"
   ]
  },
  {
   "cell_type": "code",
   "execution_count": 615,
   "id": "02b9907e-2752-4d99-91ce-1416b5796d22",
   "metadata": {},
   "outputs": [
    {
     "data": {
      "text/plain": [
       "<Figure size 1200x600 with 0 Axes>"
      ]
     },
     "metadata": {},
     "output_type": "display_data"
    },
    {
     "data": {
      "image/png": "[encoded data removed]",
      "text/plain": [
       "<Figure size 640x480 with 1 Axes>"
      ]
     },
     "metadata": {},
     "output_type": "display_data"
    }
   ],
   "source": [
    "\n",
    "# Calculate churn rate by month\n",
    "Internet_churn = df.groupby('InternetService')['Churn'].value_counts(normalize=True).unstack()*100\n",
    "\n",
    "# Plot seasonal churn\n",
    "plt.figure(figsize=(12, 6))\n",
    "ax=Internet_churn.plot( kind='bar',colormap='Pastel1')\n",
    "\n",
    "plt.title('Inertnet Servives Churn Patterns')\n",
    "plt.xlabel('Inertnet Servives')\n",
    "plt.ylabel('Churn Rate (%)')\n",
    "plt.legend(title='Churn Status', bbox_to_anchor=(1.05, 1), loc='upper left')    \n",
    "plt.xticks(rotation=0)\n",
    "plt.tight_layout()\n",
    "\n",
    "\n",
    "for container in ax.containers:\n",
    "    ax.bar_label(container,fontsize=8, color='black',fmt='%.2f%%')\n",
    "    \n",
    "plt.show()"
   ]
  },
  {
   "cell_type": "markdown",
   "id": "ffde922b-77e8-4e69-a8dd-1a9964a00673",
   "metadata": {},
   "source": [
    "**4. How different contract types affect churn? (Contract Types & Churn)**"
   ]
  },
  {
   "cell_type": "code",
   "execution_count": 215,
   "id": "9d0f86df-cd2e-4071-9f0d-16adae94d9ff",
   "metadata": {},
   "outputs": [],
   "source": [
    "Contract_churn=df.groupby('Contract')['Churn'].value_counts(normalize=True).unstack() * 100"
   ]
  },
  {
   "cell_type": "markdown",
   "id": "cb15d45a-6e24-4d18-bf3d-e9a782839830",
   "metadata": {},
   "source": [
    " (normalize=True) it means that the output will be normalized to show proportions (or percentages) instead of absolute counts\n",
    "\n",
    " unstack() helps reshape the output. or Transform \n",
    " here on churn column unstach Is used therefore it get transformned in to column showing below\n"
   ]
  },
  {
   "cell_type": "code",
   "execution_count": 216,
   "id": "a12ec004-95e2-4a03-bf5c-f1d21325ea56",
   "metadata": {},
   "outputs": [
    {
     "data": {
      "text/html": [
       "<div>\n",
       "<style scoped>\n",
       "    .dataframe tbody tr th:only-of-type {\n",
       "        vertical-align: middle;\n",
       "    }\n",
       "\n",
       "    .dataframe tbody tr th {\n",
       "        vertical-align: top;\n",
       "    }\n",
       "\n",
       "    .dataframe thead th {\n",
       "        text-align: right;\n",
       "    }\n",
       "</style>\n",
       "<table border=\"1\" class=\"dataframe\">\n",
       "  <thead>\n",
       "    <tr style=\"text-align: right;\">\n",
       "      <th>Churn</th>\n",
       "      <th>No</th>\n",
       "      <th>Yes</th>\n",
       "    </tr>\n",
       "    <tr>\n",
       "      <th>Contract</th>\n",
       "      <th></th>\n",
       "      <th></th>\n",
       "    </tr>\n",
       "  </thead>\n",
       "  <tbody>\n",
       "    <tr>\n",
       "      <th>Month-to-month</th>\n",
       "      <td>57.290323</td>\n",
       "      <td>42.709677</td>\n",
       "    </tr>\n",
       "    <tr>\n",
       "      <th>One year</th>\n",
       "      <td>88.730482</td>\n",
       "      <td>11.269518</td>\n",
       "    </tr>\n",
       "    <tr>\n",
       "      <th>Two year</th>\n",
       "      <td>97.168142</td>\n",
       "      <td>2.831858</td>\n",
       "    </tr>\n",
       "  </tbody>\n",
       "</table>\n",
       "</div>"
      ],
      "text/plain": [
       "Churn                  No        Yes\n",
       "Contract                            \n",
       "Month-to-month  57.290323  42.709677\n",
       "One year        88.730482  11.269518\n",
       "Two year        97.168142   2.831858"
      ]
     },
     "execution_count": 216,
     "metadata": {},
     "output_type": "execute_result"
    }
   ],
   "source": [
    "Contract_churn"
   ]
  },
  {
   "cell_type": "code",
   "execution_count": 375,
   "id": "d2bc82a5-3308-4cce-9417-a27ada239d5a",
   "metadata": {},
   "outputs": [
    {
     "data": {
      "text/plain": [
       "<Figure size 300x300 with 0 Axes>"
      ]
     },
     "metadata": {},
     "output_type": "display_data"
    },
    {
     "data": {
      "image/png": "[encoded data removed]",
      "text/plain": [
       "<Figure size 640x480 with 1 Axes>"
      ]
     },
     "metadata": {},
     "output_type": "display_data"
    }
   ],
   "source": [
    "plt.figure(figsize = (3,3))\n",
    "\n",
    "ax=Contract_churn.plot(kind='bar', stacked=True, colormap='Pastel1')\n",
    "\n",
    "#ax= sns.barplot(Contract_churn)\n",
    "\n",
    "# Labels and title\n",
    "plt.xlabel(\"Contract Type\")\n",
    "plt.ylabel(\"Percentage of Customers (%)\")\n",
    "plt.title(\"Churn Percentage by Contract Type\")\n",
    "plt.legend(title='Churn Status', bbox_to_anchor=(1.05, 1), loc='upper left')    \n",
    "plt.xticks(rotation=0)\n",
    "plt.tight_layout()\n",
    "\n",
    "# Add labels to bars\n",
    "for container in ax.containers:\n",
    "    ax.bar_label(container, fmt='%.2f%%', label_type='center', fontsize=8, color='black')\n",
    "    \n",
    "# Show plot\n",
    "plt.show()"
   ]
  },
  {
   "cell_type": "markdown",
   "id": "e71260b2-12b5-4cc7-8ffa-64a11fd4c2a7",
   "metadata": {},
   "source": [
    "People having two year of contract have less likely to be churned as compared to month-to-month"
   ]
  },
  {
   "cell_type": "markdown",
   "id": "cc14696a-46b6-4211-b20f-70c90114a9cd",
   "metadata": {},
   "source": [
    "**5. How much gender is affecting the churn data? (Gender & Churn )**"
   ]
  },
  {
   "cell_type": "code",
   "execution_count": 623,
   "id": "2d5662c4-9a29-4016-b607-d0a1a066bf4f",
   "metadata": {},
   "outputs": [
    {
     "data": {
      "image/png": "[encoded data removed]",
      "text/plain": [
       "<Figure size 500x500 with 1 Axes>"
      ]
     },
     "metadata": {},
     "output_type": "display_data"
    }
   ],
   "source": [
    "plt.figure(figsize = (5,5))\n",
    "ax=sns.countplot(x = \"gender\", data = df, hue = \"Churn\",palette='Pastel1',edgecolor='black')\n",
    "\n",
    "plt.xlabel(\"Gender\")\n",
    "plt.ylabel(\"Count\")\n",
    "plt.title(\"Churn by Gender\")\n",
    "plt.legend(title='Churn Status', bbox_to_anchor=(1.05, 1), loc='upper left')   # for hue I can add legends\n",
    "plt.xticks(rotation=0)\n",
    "plt.tight_layout()\n",
    "\n",
    "for container in ax.containers:\n",
    "    ax.bar_label(container,fontsize=8, color='black')\n",
    "\n",
    "plt.show()"
   ]
  },
  {
   "cell_type": "markdown",
   "id": "d1abb427-1346-4962-8e8e-908b904910b2",
   "metadata": {},
   "source": [
    "**6. Which payment methods are associated with higher churn? (Payment Methods & Churn)**"
   ]
  },
  {
   "cell_type": "code",
   "execution_count": 675,
   "id": "0a5fe76f-b07c-455c-a4e4-83105778d9cf",
   "metadata": {},
   "outputs": [],
   "source": [
    "df_payment_method=df.groupby('PaymentMethod')['Churn'].value_counts().unstack().reset_index()"
   ]
  },
  {
   "cell_type": "code",
   "execution_count": 444,
   "id": "c88f240c-2268-4047-888f-1368ede600cf",
   "metadata": {},
   "outputs": [
    {
     "data": {
      "text/html": [
       "<div>\n",
       "<style scoped>\n",
       "    .dataframe tbody tr th:only-of-type {\n",
       "        vertical-align: middle;\n",
       "    }\n",
       "\n",
       "    .dataframe tbody tr th {\n",
       "        vertical-align: top;\n",
       "    }\n",
       "\n",
       "    .dataframe thead th {\n",
       "        text-align: right;\n",
       "    }\n",
       "</style>\n",
       "<table border=\"1\" class=\"dataframe\">\n",
       "  <thead>\n",
       "    <tr style=\"text-align: right;\">\n",
       "      <th>Churn</th>\n",
       "      <th>PaymentMethod</th>\n",
       "      <th>No</th>\n",
       "      <th>Yes</th>\n",
       "    </tr>\n",
       "  </thead>\n",
       "  <tbody>\n",
       "    <tr>\n",
       "      <th>2</th>\n",
       "      <td>Electronic check</td>\n",
       "      <td>1294</td>\n",
       "      <td>1071</td>\n",
       "    </tr>\n",
       "    <tr>\n",
       "      <th>3</th>\n",
       "      <td>Mailed check</td>\n",
       "      <td>1304</td>\n",
       "      <td>308</td>\n",
       "    </tr>\n",
       "    <tr>\n",
       "      <th>0</th>\n",
       "      <td>Bank transfer (automatic)</td>\n",
       "      <td>1286</td>\n",
       "      <td>258</td>\n",
       "    </tr>\n",
       "    <tr>\n",
       "      <th>1</th>\n",
       "      <td>Credit card (automatic)</td>\n",
       "      <td>1290</td>\n",
       "      <td>232</td>\n",
       "    </tr>\n",
       "  </tbody>\n",
       "</table>\n",
       "</div>"
      ],
      "text/plain": [
       "Churn              PaymentMethod    No   Yes\n",
       "2               Electronic check  1294  1071\n",
       "3                   Mailed check  1304   308\n",
       "0      Bank transfer (automatic)  1286   258\n",
       "1        Credit card (automatic)  1290   232"
      ]
     },
     "execution_count": 444,
     "metadata": {},
     "output_type": "execute_result"
    }
   ],
   "source": [
    "df_payment_method.sort_values(by='Yes' ,ascending=False)"
   ]
  },
  {
   "cell_type": "markdown",
   "id": "99e85583-9622-4259-9390-3afff0daefb2",
   "metadata": {},
   "source": [
    "Customer with payment method Ecectronic Check has higher churn rate and credit card has lower as compared"
   ]
  },
  {
   "cell_type": "markdown",
   "id": "cc81d875-b460-4284-ad3f-cc23a3d4f9bb",
   "metadata": {},
   "source": [
    "**7. Are higher bills linked to churn?**"
   ]
  },
  {
   "cell_type": "code",
   "execution_count": 468,
   "id": "6f420284-3f65-4b3f-b6a2-67583e66ef22",
   "metadata": {},
   "outputs": [
    {
     "data": {
      "text/plain": [
       "<Axes: xlabel='Churn', ylabel='MonthlyCharges'>"
      ]
     },
     "execution_count": 468,
     "metadata": {},
     "output_type": "execute_result"
    },
    {
     "data": {
      "image/png": "[encoded data removed]",
      "text/plain": [
       "<Figure size 600x400 with 1 Axes>"
      ]
     },
     "metadata": {},
     "output_type": "display_data"
    }
   ],
   "source": [
    "plt.figure(figsize=(6,4))\n",
    "sns.boxplot(x='Churn', y='MonthlyCharges', data=df)"
   ]
  },
  {
   "cell_type": "markdown",
   "id": "9fe5a234-d29e-4f44-a8d7-512d52e12bb7",
   "metadata": {},
   "source": [
    "those who have stopped using a service or product more likely to pay more Monthly "
   ]
  },
  {
   "cell_type": "code",
   "execution_count": 470,
   "id": "ef082662-e11f-4031-a35b-0d5f6ab1b9af",
   "metadata": {},
   "outputs": [
    {
     "data": {
      "text/plain": [
       "<Axes: xlabel='Churn', ylabel='TotalCharges'>"
      ]
     },
     "execution_count": 470,
     "metadata": {},
     "output_type": "execute_result"
    },
    {
     "data": {
      "image/png": "[encoded data removed]",
      "text/plain": [
       "<Figure size 600x400 with 1 Axes>"
      ]
     },
     "metadata": {},
     "output_type": "display_data"
    }
   ],
   "source": [
    "plt.figure(figsize=(6,4))\n",
    "sns.boxplot(x='Churn', y='TotalCharges', data=df)"
   ]
  },
  {
   "cell_type": "markdown",
   "id": "f15754f2-820d-45c3-9c71-9bdf62a28ad1",
   "metadata": {},
   "source": [
    "**8. Pricing & Customer Retention**"
   ]
  },
  {
   "cell_type": "code",
   "execution_count": 677,
   "id": "57c7bd4d-2e82-4434-bea2-d255bda92fc9",
   "metadata": {},
   "outputs": [
    {
     "data": {
      "text/html": [
       "<div>\n",
       "<style scoped>\n",
       "    .dataframe tbody tr th:only-of-type {\n",
       "        vertical-align: middle;\n",
       "    }\n",
       "\n",
       "    .dataframe tbody tr th {\n",
       "        vertical-align: top;\n",
       "    }\n",
       "\n",
       "    .dataframe thead th {\n",
       "        text-align: right;\n",
       "    }\n",
       "</style>\n",
       "<table border=\"1\" class=\"dataframe\">\n",
       "  <thead>\n",
       "    <tr style=\"text-align: right;\">\n",
       "      <th>Churn</th>\n",
       "      <th>No</th>\n",
       "      <th>Yes</th>\n",
       "    </tr>\n",
       "    <tr>\n",
       "      <th>MonthlyChargesGroup</th>\n",
       "      <th></th>\n",
       "      <th></th>\n",
       "    </tr>\n",
       "  </thead>\n",
       "  <tbody>\n",
       "    <tr>\n",
       "      <th>(18.15, 38.35]</th>\n",
       "      <td>88.592098</td>\n",
       "      <td>11.407902</td>\n",
       "    </tr>\n",
       "    <tr>\n",
       "      <th>(38.35, 58.45]</th>\n",
       "      <td>73.034826</td>\n",
       "      <td>26.965174</td>\n",
       "    </tr>\n",
       "    <tr>\n",
       "      <th>(58.45, 78.55]</th>\n",
       "      <td>70.519386</td>\n",
       "      <td>29.480614</td>\n",
       "    </tr>\n",
       "    <tr>\n",
       "      <th>(78.55, 98.65]</th>\n",
       "      <td>63.033954</td>\n",
       "      <td>36.966046</td>\n",
       "    </tr>\n",
       "    <tr>\n",
       "      <th>(98.65, 118.75]</th>\n",
       "      <td>69.942748</td>\n",
       "      <td>30.057252</td>\n",
       "    </tr>\n",
       "  </tbody>\n",
       "</table>\n",
       "</div>"
      ],
      "text/plain": [
       "Churn                       No        Yes\n",
       "MonthlyChargesGroup                      \n",
       "(18.15, 38.35]       88.592098  11.407902\n",
       "(38.35, 58.45]       73.034826  26.965174\n",
       "(58.45, 78.55]       70.519386  29.480614\n",
       "(78.55, 98.65]       63.033954  36.966046\n",
       "(98.65, 118.75]      69.942748  30.057252"
      ]
     },
     "execution_count": 677,
     "metadata": {},
     "output_type": "execute_result"
    }
   ],
   "source": [
    "# Analyze churn rate by monthly charges\n",
    "df['MonthlyChargesGroup'] = pd.cut(df['MonthlyCharges'], bins=5)\n",
    "monthly_charges_churn = df.groupby('MonthlyChargesGroup')['Churn'].value_counts(normalize=True).unstack()*100\n",
    "monthly_charges_churn"
   ]
  },
  {
   "cell_type": "code",
   "execution_count": 689,
   "id": "777eeb3d-2c60-4e3c-a691-864ec21f49e5",
   "metadata": {},
   "outputs": [
    {
     "data": {
      "text/plain": [
       "<Figure size 1000x500 with 0 Axes>"
      ]
     },
     "metadata": {},
     "output_type": "display_data"
    },
    {
     "data": {
      "image/png": "[encoded data removed]",
      "text/plain": [
       "<Figure size 640x480 with 1 Axes>"
      ]
     },
     "metadata": {},
     "output_type": "display_data"
    }
   ],
   "source": [
    "\n",
    "# Plot churn rate by monthly charges\n",
    "plt.figure(figsize = (10,5))\n",
    "\n",
    "ax=monthly_charges_churn.plot( kind='bar',colormap='Pastel1', width = 0.85)\n",
    "plt.title('Churn Rate by Monthly Charges')\n",
    "plt.ylabel('Churn Rate (%)')\n",
    "plt.xlabel(\"Monthly Charge Groups\")\n",
    "plt.legend(title='Churn Status', bbox_to_anchor=(1.05, 1), loc='upper left')   # for hue I can add legends\n",
    "plt.xticks(rotation=45)\n",
    "plt.tight_layout()\n",
    "\n",
    "for container in ax.containers:\n",
    "    ax.bar_label(container,fontsize=8, color='black',fmt='%.2f%%')\n",
    "\n",
    "\n",
    "plt.show()"
   ]
  },
  {
   "cell_type": "markdown",
   "id": "659492a0-8ddf-4eef-b775-7ceda40acb6c",
   "metadata": {},
   "source": [
    "people who pay less has high retention rate"
   ]
  },
  {
   "cell_type": "markdown",
   "id": "6fc14687-385f-4f25-8876-1017cdff5421",
   "metadata": {},
   "source": [
    "**9. Senior Citizens & Churn**"
   ]
  },
  {
   "cell_type": "code",
   "execution_count": 698,
   "id": "61d76a63-d0e9-4324-9f82-716d4206bdcf",
   "metadata": {},
   "outputs": [
    {
     "name": "stdout",
     "output_type": "stream",
     "text": [
      "Churn Rate by Senior Citizen Status:\n",
      "Churn                 No        Yes\n",
      "SeniorCitizen                      \n",
      "0              76.393832  23.606168\n",
      "1              58.318739  41.681261\n"
     ]
    }
   ],
   "source": [
    "# Calculate churn rate by senior citizen status\n",
    "senior_churn = df.groupby('SeniorCitizen')['Churn'].value_counts(normalize=True).unstack()*100\n",
    "print(\"Churn Rate by Senior Citizen Status:\")\n",
    "print(senior_churn)"
   ]
  },
  {
   "cell_type": "code",
   "execution_count": 720,
   "id": "b437471d-dff8-4285-ad39-ab130cfd84fa",
   "metadata": {},
   "outputs": [
    {
     "data": {
      "image/png": "[encoded data removed]",
      "text/plain": [
       "<Figure size 640x480 with 1 Axes>"
      ]
     },
     "metadata": {},
     "output_type": "display_data"
    }
   ],
   "source": [
    "\n",
    "ax=senior_churn.plot(kind='bar', stacked=True,colormap='Pastel1', width = 0.85)  # Customize colors if desired\n",
    "\n",
    "\n",
    "\n",
    "plt.title('Churn by Senior Citizen (Stacked Bar Chart)')\n",
    "plt.xlabel('SeniorCitizen')\n",
    "plt.ylabel('Percentage (%)')\n",
    "plt.xticks(rotation=0)\n",
    "\n",
    "plt.legend(title='Churn Status', bbox_to_anchor=(1.05, 1), loc='upper left')   # for hue I can add legends\n",
    "plt.xticks(rotation=0)\n",
    "plt.tight_layout()\n",
    "\n",
    "for container in ax.containers:\n",
    "    ax.bar_label(container,fontsize=8, color='black',fmt='%.2f%%',label_type='center')\n",
    "\n",
    "plt.show()"
   ]
  },
  {
   "cell_type": "markdown",
   "id": "bd124849-38ae-45ca-9aaa-d865b841bce7",
   "metadata": {},
   "source": [
    "Senior citizen is more likely to leave the services than non- senior citizen"
   ]
  },
  {
   "cell_type": "markdown",
   "id": "ae5d3fb3-1e2d-4251-aee7-7317503a96d9",
   "metadata": {},
   "source": [
    "**10. Predictive Modeling & Future Actions**"
   ]
  },
  {
   "cell_type": "code",
   "execution_count": 730,
   "id": "397a90ac-68fc-4ed2-97ca-5c56e87e8295",
   "metadata": {},
   "outputs": [
    {
     "name": "stdout",
     "output_type": "stream",
     "text": [
      "Confusion Matrix:\n",
      "[[1400  139]\n",
      " [ 309  265]]\n",
      "\n",
      "Classification Report:\n",
      "              precision    recall  f1-score   support\n",
      "\n",
      "          No       0.82      0.91      0.86      1539\n",
      "         Yes       0.66      0.46      0.54       574\n",
      "\n",
      "    accuracy                           0.79      2113\n",
      "   macro avg       0.74      0.69      0.70      2113\n",
      "weighted avg       0.77      0.79      0.78      2113\n",
      "\n",
      "\n",
      "Top 3 Risk Factors Leading to Churn:\n",
      "TotalCharges      0.158147\n",
      "tenure            0.140708\n",
      "MonthlyCharges    0.134492\n",
      "dtype: float64\n"
     ]
    }
   ],
   "source": [
    "from sklearn.model_selection import train_test_split\n",
    "from sklearn.ensemble import RandomForestClassifier\n",
    "from sklearn.metrics import classification_report, confusion_matrix\n",
    "\n",
    "# Prepare data for modeling\n",
    "X = df.drop(['Churn', 'customerID'], axis=1)\n",
    "X = pd.get_dummies(X)  # Convert categorical variables to dummy variables\n",
    "y = df['Churn']\n",
    "\n",
    "# Split the data into training and testing sets\n",
    "X_train, X_test, y_train, y_test = train_test_split(X, y, test_size=0.3, random_state=42)\n",
    "\n",
    "# Train a Random Forest Classifier\n",
    "model = RandomForestClassifier(random_state=42)\n",
    "model.fit(X_train, y_train)\n",
    "\n",
    "# Predict on the test set\n",
    "y_pred = model.predict(X_test)\n",
    "\n",
    "# Evaluate the model\n",
    "print(\"Confusion Matrix:\")\n",
    "print(confusion_matrix(y_test, y_pred))\n",
    "print(\"\\nClassification Report:\")\n",
    "print(classification_report(y_test, y_pred))\n",
    "\n",
    "# Feature Importance\n",
    "feature_importance = pd.Series(model.feature_importances_, index=X.columns).sort_values(ascending=False)\n",
    "print(\"\\nTop 3 Risk Factors Leading to Churn:\")\n",
    "print(feature_importance.head(3))"
   ]
  },
  {
   "cell_type": "markdown",
   "id": "016d462b-5e38-4222-a778-2267c68a9f15",
   "metadata": {},
   "source": [
    "**11.  Proactive Churn Prevention**"
   ]
  },
  {
   "cell_type": "code",
   "execution_count": 742,
   "id": "6b0b1102-82fd-41fa-8359-003ee2a39559",
   "metadata": {},
   "outputs": [
    {
     "name": "stdout",
     "output_type": "stream",
     "text": [
      "High-Risk Customers:\n",
      "      customerID  ChurnProbability\n",
      "2     3668-QPYBK              0.82\n",
      "4     9237-HQITU              0.81\n",
      "5     9305-CDSKC              0.99\n",
      "8     7892-POOKP              0.67\n",
      "13    0280-XJGEX              0.81\n",
      "...          ...               ...\n",
      "7018  1122-JWTJW              0.67\n",
      "7021  1699-HPSBG              0.66\n",
      "7026  8775-CEBBJ              0.61\n",
      "7032  6894-LFHLY              0.98\n",
      "7041  8361-LTMKD              0.94\n",
      "\n",
      "[1703 rows x 2 columns]\n"
     ]
    }
   ],
   "source": [
    "# Use AI/automation to predict churn and take proactive actions\n",
    "# For example, you can use the model to predict churn for all customers and target those with high churn probability\n",
    "\n",
    "# Predict churn probability for all customers\n",
    "df['ChurnProbability'] = model.predict_proba(X)[:, 1]\n",
    "\n",
    "# Identify high-risk customers\n",
    "high_risk_customers = df[df['ChurnProbability'] > 0.5]\n",
    "\n",
    "# Implement targeted retention strategies for high-risk customers\n",
    "print(\"High-Risk Customers:\")\n",
    "print(high_risk_customers[['customerID', 'ChurnProbability']])"
   ]
  },
  {
   "cell_type": "markdown",
   "id": "5c007ca1-60b1-4a3f-ac8e-8bf2a6eb01bd",
   "metadata": {},
   "source": [
    "***CONCLUSION***"
   ]
  },
  {
   "cell_type": "markdown",
   "id": "857e6f58-1fba-4f66-8b0c-c42255c5d018",
   "metadata": {},
   "source": [
    "This analysis provides insights into customer churn and helps identify key factors contributing to churn. By leveraging predictive modeling, you can proactively address churn and implement targeted retention strategies."
   ]
  },
  {
   "cell_type": "code",
   "execution_count": null,
   "id": "fb14f1da-cd02-4851-b31f-aec72647e495",
   "metadata": {},
   "outputs": [],
   "source": []
  }
 ],
 "metadata": {
  "kernelspec": {
   "display_name": "Python 3 (ipykernel)",
   "language": "python",
   "name": "python3"
  },
  "language_info": {
   "codemirror_mode": {
    "name": "ipython",
    "version": 3
   },
   "file_extension": ".py",
   "mimetype": "text/x-python",
   "name": "python",
   "nbconvert_exporter": "python",
   "pygments_lexer": "ipython3",
   "version": "3.11.5"
  }
 },
 "nbformat": 4,
 "nbformat_minor": 5
}
